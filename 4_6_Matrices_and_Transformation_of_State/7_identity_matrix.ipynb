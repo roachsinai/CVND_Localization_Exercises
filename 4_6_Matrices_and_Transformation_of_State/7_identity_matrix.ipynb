{
 "cells": [
  {
   "cell_type": "markdown",
   "metadata": {},
   "source": [
    "# Identity Matrix\n",
    "\n",
    "Write a function called identity_matrix that outputs an identity matrix of size n.\n",
    "\n",
    "INPUT\n",
    "* n - size of the Identity matrix\n",
    "\n",
    "OUPUT\n",
    "* identity matrix as a list of lists\n",
    "\n",
    "\n",
    "HINTS\n",
    "* nested for loops will be helpful\n",
    "* the one values are always on the diagonal. To access diagonal values in a list of lists will occur where i = j\n",
    "* whenever i does not equal j, the value in the matrix should be 0"
   ]
  },
  {
   "cell_type": "code",
   "execution_count": 1,
   "metadata": {
    "collapsed": true
   },
   "outputs": [],
   "source": [
    "def identity_matrix(n):\n",
    "    \n",
    "    identity = []\n",
    "    \n",
    "    # TODO: Write a nested for loop to iterate over the rows and\n",
    "    # columns of the identity matrix. Remember that identity\n",
    "    # matrices are square so they have the same number of rows\n",
    "    # and columns\n",
    "    identity = [[0 for _ in range(n)] for __ in range(n)]\n",
    "    \n",
    "    # Make sure to assign 1 to the diagonal values and 0 everywhere\n",
    "    # else\n",
    "    for i in range(n):\n",
    "        identity[i][i] = 1\n",
    "    \n",
    "    return identity"
   ]
  },
  {
   "cell_type": "code",
   "execution_count": 2,
   "metadata": {
    "collapsed": true
   },
   "outputs": [],
   "source": [
    "# TODO: Run this cell to see if your answers are as expected\n",
    "\n",
    "assert identity_matrix(1) == [[1]]\n",
    "\n",
    "assert identity_matrix(2) == [[1, 0], \n",
    "                             [0, 1]]\n",
    "\n",
    "assert identity_matrix(3) == [[1, 0, 0],\n",
    "                             [0, 1, 0],\n",
    "                             [0, 0, 1]]\n",
    "\n",
    "assert identity_matrix(4) == [[1, 0, 0, 0],\n",
    "                             [0, 1, 0, 0],\n",
    "                             [0, 0, 1, 0],\n",
    "                             [0, 0, 0, 1]]"
   ]
  },
  {
   "cell_type": "markdown",
   "metadata": {},
   "source": [
    "# Multiplication with the Identity Matrix\n",
    "\n",
    "Copy your matrix multiplication function in the code cell below. Try multiplying a matrix with an identity matrix to prove to yourself that the identity matrix is analogous to multiplyin a scalar by one."
   ]
  },
  {
   "cell_type": "code",
   "execution_count": 3,
   "metadata": {},
   "outputs": [],
   "source": [
    "def get_row(matrix, row):\n",
    "    return matrix[row]\n",
    "\n",
    "def get_column(matrix, column_number):\n",
    "    column = []\n",
    "    # assert column_number < len(matrix[0])\n",
    "    \n",
    "    for i in range(len(matrix)):\n",
    "        column.append(matrix[i][column_number])\n",
    "    return column\n",
    "\n",
    "def dot_product(vector_one, vector_two):\n",
    "    sum = 0\n",
    "    for i in range(len(vector_one)):\n",
    "        sum += vector_one[i] * vector_two[i]\n",
    "    return sum\n",
    "\n",
    "def matrix_multiplication(matrixA, matrixB):\n",
    "    \n",
    "    m_rows = len(matrixA)\n",
    "    p_columns = len(matrixB[0])\n",
    "    \n",
    "    \n",
    "    # empty list that will hold the product of AxB\n",
    "    result = []\n",
    "\n",
    "    for i in range(m_rows):\n",
    "        row = []\n",
    "        for j in range(p_columns):\n",
    "            row.append(dot_product(get_row(matrixA, i), get_column(matrixB, j)))\n",
    "        result.append(row)\n",
    "    \n",
    "    return result"
   ]
  },
  {
   "cell_type": "code",
   "execution_count": 4,
   "metadata": {
    "collapsed": true
   },
   "outputs": [],
   "source": [
    "# TODO: Run this cell to see if your results are as expected.\n",
    "\n",
    "m = [[5, 9, 2, 4],\n",
    "     [3, 8, 5, 6],\n",
    "     [1, 0, 0, 15]]\n",
    "\n",
    "assert matrix_multiplication(m, identity_matrix(4)) == m\n",
    "assert matrix_multiplication(identity_matrix(3), m) == m"
   ]
  },
  {
   "cell_type": "code",
   "execution_count": null,
   "metadata": {},
   "outputs": [],
   "source": []
  }
 ],
 "metadata": {
  "kernelspec": {
   "display_name": "Python 3",
   "language": "python",
   "name": "python3"
  },
  "language_info": {
   "codemirror_mode": {
    "name": "ipython",
    "version": 3
   },
   "file_extension": ".py",
   "mimetype": "text/x-python",
   "name": "python",
   "nbconvert_exporter": "python",
   "pygments_lexer": "ipython3",
   "version": "3.7.1"
  }
 },
 "nbformat": 4,
 "nbformat_minor": 2
}
